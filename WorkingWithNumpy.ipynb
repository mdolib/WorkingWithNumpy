{
 "cells": [
  {
   "cell_type": "markdown",
   "id": "4167a87f",
   "metadata": {},
   "source": [
    "<center><h1>Tutorial for Numpy</h1></center>\n",
    "\n",
    "For more information, visit my Portfolio at \n",
    "<a href='https://www.novypro.com/profile_projects/mohammed-dolib'>\n",
    "    DashBoard & Reports Portfolio</a>\n",
    "For Git Hub\n",
    "<a href='https://github.com/mdolib?tab=repositories'>Mohammed Dolib Portfolio</a> or numpy documentation to discover more \n",
    "<a href='https://numpy.org/devdocs/reference/index.html'>Numpy API</a>\n",
    "<center><em>Copyright Mohammed Dolib</em></center>"
   ]
  },
  {
   "cell_type": "markdown",
   "id": "2b5c7567",
   "metadata": {},
   "source": [
    "# Numpy library\n",
    "\n",
    "NumPy is a Python library for working with large, multi-dimensional arrays and matrices of numerical data. It provides functions for performing mathematical operations on these arrays, as well as for performing operations on them such as sorting, reshaping, and selecting subsets of the data. NumPy is an essential library for scientific computing with Python and is widely used in machine learning, data science, and other fields. \n",
    "\n",
    "### Some of the key features of NumPy include:\n",
    "\n",
    "- Functions for performing mathematical operations on arrays, such as element-wise addition, multiplication, and exponentiation.\n",
    "- Tools for performing linear algebra operations on arrays, such as matrix multiplication and much more.\n",
    "- Functions for generating arrays with certain properties, such as ones, zeros, and random numbers.\n",
    "- Functions for reading and writing arrays to and from files, such as CSV and binary files.\n",
    "- Tools for integrating NumPy with other scientific computing libraries, such as SciPy and Matplotlib.\n",
    "- NumPy is an open-source library, and it is included as a standard library in many Python distributions, so you can use it without installing it separately. However, if you want to use the latest version of NumPy, you can install it using the package manager of your choice, such as pip or conda.\n",
    "\n",
    "pip install numpy Or pip3 install numpy\n"
   ]
  },
  {
   "cell_type": "markdown",
   "id": "d12ae822",
   "metadata": {},
   "source": [
    "### what is numpy use for\n",
    " - 1D array\n",
    " - 2D array\n",
    " - 3D array\n",
    " - Mathematics\n",
    " - Plotting\n",
    " - Machine Learning\n",
    "\n",
    "### How normal Python list is different from Numpy\n",
    "##### Python List \n",
    "- Slow.\n",
    "- lots of information store in memory with list.\n",
    "\n",
    "##### Numpy array\n",
    "- Fast, 'faster to read less bytes of memory'\n",
    "- No type checking when iterating through objects\n",
    "- is use Contiguous memory \n",
    "- Insertion, deletion, appending, concatenation plus lots more 😎\n"
   ]
  },
  {
   "cell_type": "code",
   "execution_count": 2,
   "id": "aa888257",
   "metadata": {},
   "outputs": [],
   "source": [
    "# import the NumPy library into a Python script\n",
    "import numpy as np"
   ]
  },
  {
   "cell_type": "markdown",
   "id": "ea970b5b",
   "metadata": {},
   "source": [
    "#### Basic of Numpy "
   ]
  },
  {
   "cell_type": "code",
   "execution_count": 14,
   "id": "2d797748",
   "metadata": {},
   "outputs": [
    {
     "data": {
      "text/plain": [
       "array([1, 2, 3, 4])"
      ]
     },
     "execution_count": 14,
     "metadata": {},
     "output_type": "execute_result"
    }
   ],
   "source": [
    "# 1D array\n",
    "a = np.array([1,2,3,4])\n",
    "a"
   ]
  },
  {
   "cell_type": "code",
   "execution_count": 15,
   "id": "0a2f911f",
   "metadata": {},
   "outputs": [
    {
     "data": {
      "text/plain": [
       "array([[ 5.,  9., 33.],\n",
       "       [ 1., 56., 20.]])"
      ]
     },
     "execution_count": 15,
     "metadata": {},
     "output_type": "execute_result"
    }
   ],
   "source": [
    "# 2D array\n",
    "# 3D dimension array you can keep nest list inside list for it\n",
    "b = np.array([[5.0,9.0,33.0],[1.0,56.0,20.0]])\n",
    "b"
   ]
  },
  {
   "cell_type": "code",
   "execution_count": 16,
   "id": "97e4b6ad",
   "metadata": {},
   "outputs": [
    {
     "data": {
      "text/plain": [
       "2"
      ]
     },
     "execution_count": 16,
     "metadata": {},
     "output_type": "execute_result"
    }
   ],
   "source": [
    "# get Dimension \n",
    "b.ndim"
   ]
  },
  {
   "cell_type": "code",
   "execution_count": 17,
   "id": "f0382c8b",
   "metadata": {},
   "outputs": [
    {
     "data": {
      "text/plain": [
       "(4,)"
      ]
     },
     "execution_count": 17,
     "metadata": {},
     "output_type": "execute_result"
    }
   ],
   "source": [
    "# Get Shape it will give typle (Row, Column) for one D is (N,) number of iteams\n",
    "a.shape"
   ]
  },
  {
   "cell_type": "code",
   "execution_count": 18,
   "id": "08424e75",
   "metadata": {},
   "outputs": [
    {
     "data": {
      "text/plain": [
       "array([[ 5.,  9.],\n",
       "       [33.,  1.],\n",
       "       [56., 20.]])"
      ]
     },
     "execution_count": 18,
     "metadata": {},
     "output_type": "execute_result"
    }
   ],
   "source": [
    "# Resahpe array \n",
    "b.reshape(3,2)"
   ]
  },
  {
   "cell_type": "code",
   "execution_count": 36,
   "id": "98ce1d92",
   "metadata": {},
   "outputs": [
    {
     "data": {
      "text/plain": [
       "dtype('int8')"
      ]
     },
     "execution_count": 36,
     "metadata": {},
     "output_type": "execute_result"
    }
   ],
   "source": [
    "# Get Data type\n",
    "a.dtype\n",
    "# Or you can define/specify data type from the creation of an array\n",
    "x = np.array([2,4,5,6], dtype='int8')\n",
    "x.dtype"
   ]
  },
  {
   "cell_type": "code",
   "execution_count": 19,
   "id": "560ebf31",
   "metadata": {},
   "outputs": [
    {
     "data": {
      "text/plain": [
       "[1, 2, 3, 4, 5, 6]"
      ]
     },
     "execution_count": 19,
     "metadata": {},
     "output_type": "execute_result"
    }
   ],
   "source": [
    "# here is normal python list we want to Transforming to numpy array \n",
    "listpy = [1,2,3,4,5,6]\n",
    "listpy"
   ]
  },
  {
   "cell_type": "code",
   "execution_count": 5,
   "id": "fe94c158",
   "metadata": {},
   "outputs": [
    {
     "data": {
      "text/plain": [
       "list"
      ]
     },
     "execution_count": 5,
     "metadata": {},
     "output_type": "execute_result"
    }
   ],
   "source": [
    "# Checking object type it's normal python list \n",
    "type(listpy)"
   ]
  },
  {
   "cell_type": "code",
   "execution_count": 6,
   "id": "b0ff76d7",
   "metadata": {},
   "outputs": [
    {
     "data": {
      "text/plain": [
       "array([1, 2, 3, 4, 5, 6])"
      ]
     },
     "execution_count": 6,
     "metadata": {},
     "output_type": "execute_result"
    }
   ],
   "source": [
    "# Converted to Numpy array \n",
    "# this called Casting\n",
    "arrnum = np.array(listpy)\n",
    "arrnum"
   ]
  },
  {
   "cell_type": "code",
   "execution_count": 7,
   "id": "ff546b2f",
   "metadata": {},
   "outputs": [
    {
     "data": {
      "text/plain": [
       "numpy.ndarray"
      ]
     },
     "execution_count": 7,
     "metadata": {},
     "output_type": "execute_result"
    }
   ],
   "source": [
    "type(arrnum)"
   ]
  },
  {
   "cell_type": "code",
   "execution_count": 26,
   "id": "f7e08e8d",
   "metadata": {},
   "outputs": [
    {
     "data": {
      "text/plain": [
       "[(1, 2, 3), (4, 5, 6), (7, 8, 9)]"
      ]
     },
     "execution_count": 26,
     "metadata": {},
     "output_type": "execute_result"
    }
   ],
   "source": [
    "# List nested with tuple \n",
    "_matrix =[(1,2,3),(4,5,6),(7,8,9)]\n",
    "_matrix"
   ]
  },
  {
   "cell_type": "code",
   "execution_count": 24,
   "id": "81f25974",
   "metadata": {},
   "outputs": [
    {
     "data": {
      "text/plain": [
       "array([[1, 2, 3],\n",
       "       [4, 5, 6],\n",
       "       [7, 8, 9]])"
      ]
     },
     "execution_count": 24,
     "metadata": {},
     "output_type": "execute_result"
    }
   ],
   "source": [
    "# Numpy smart to konwo it's list of row and colmuns to converted/casting to 2D array \n",
    "mymatrix = np.array(_matrix)\n",
    "mymatrix"
   ]
  },
  {
   "cell_type": "markdown",
   "id": "26c85a6f",
   "metadata": {},
   "source": [
    "#### Bulitin Funcation"
   ]
  },
  {
   "cell_type": "code",
   "execution_count": 31,
   "id": "c03998d4",
   "metadata": {},
   "outputs": [],
   "source": [
    "# There is building funcation & methods to work with Numpy \n",
    "# not always the case casting python data structure "
   ]
  },
  {
   "cell_type": "code",
   "execution_count": 48,
   "id": "5f8cc864",
   "metadata": {},
   "outputs": [
    {
     "data": {
      "text/plain": [
       "array([ 1,  6, 11, 16, 21, 26, 31, 36, 41, 46, 51, 56, 61, 66, 71, 76, 81,\n",
       "       86, 91, 96])"
      ]
     },
     "execution_count": 48,
     "metadata": {},
     "output_type": "execute_result"
    }
   ],
   "source": [
    "# up to but not inclding stoping point\n",
    "np.arange(1,101,5)"
   ]
  },
  {
   "cell_type": "code",
   "execution_count": 59,
   "id": "3589c7ce",
   "metadata": {},
   "outputs": [
    {
     "data": {
      "text/plain": [
       "array([0., 0., 0., 0., 0.])"
      ]
     },
     "execution_count": 59,
     "metadata": {},
     "output_type": "execute_result"
    }
   ],
   "source": [
    "np.zeros(5)"
   ]
  },
  {
   "cell_type": "code",
   "execution_count": 62,
   "id": "dd0822bf",
   "metadata": {},
   "outputs": [
    {
     "data": {
      "text/plain": [
       "array([[0., 0., 0.],\n",
       "       [0., 0., 0.]])"
      ]
     },
     "execution_count": 62,
     "metadata": {},
     "output_type": "execute_result"
    }
   ],
   "source": [
    "np.zeros((2,3))"
   ]
  },
  {
   "cell_type": "code",
   "execution_count": 63,
   "id": "b125e8c9",
   "metadata": {},
   "outputs": [
    {
     "data": {
      "text/plain": [
       "array([1., 1., 1., 1., 1.])"
      ]
     },
     "execution_count": 63,
     "metadata": {},
     "output_type": "execute_result"
    }
   ],
   "source": [
    "np.ones(5)"
   ]
  },
  {
   "cell_type": "code",
   "execution_count": 85,
   "id": "ad852c85",
   "metadata": {},
   "outputs": [
    {
     "data": {
      "text/plain": [
       "array([ 2.        ,  4.66666667,  7.33333333, 10.        ])"
      ]
     },
     "execution_count": 85,
     "metadata": {},
     "output_type": "execute_result"
    }
   ],
   "source": [
    "# It'll give us number between staring and stop point \n",
    "# as we specified on threed aregument\n",
    "np.linspace(2,10,4)"
   ]
  },
  {
   "cell_type": "code",
   "execution_count": 86,
   "id": "3461c6d3",
   "metadata": {},
   "outputs": [
    {
     "data": {
      "text/plain": [
       "array([[1., 0., 0.],\n",
       "       [0., 1., 0.],\n",
       "       [0., 0., 1.]])"
      ]
     },
     "execution_count": 86,
     "metadata": {},
     "output_type": "execute_result"
    }
   ],
   "source": [
    "# Idenitiy Matrix\n",
    "np.eye(3)"
   ]
  },
  {
   "cell_type": "markdown",
   "id": "bbc8e1cd",
   "metadata": {},
   "source": [
    "#### Random Distrbution "
   ]
  },
  {
   "cell_type": "code",
   "execution_count": 99,
   "id": "f1f3a607",
   "metadata": {},
   "outputs": [
    {
     "data": {
      "text/plain": [
       "array([0.74691055, 0.7122748 , 0.51114182])"
      ]
     },
     "execution_count": 99,
     "metadata": {},
     "output_type": "execute_result"
    }
   ],
   "source": [
    "# Random number between 0-1\n",
    "np.random.rand(3)"
   ]
  },
  {
   "cell_type": "code",
   "execution_count": 174,
   "id": "cd91a017",
   "metadata": {},
   "outputs": [
    {
     "data": {
      "text/plain": [
       "array([[-5.15868220e-04,  3.31616295e-01],\n",
       "       [ 2.92578422e-01,  2.53310061e-01],\n",
       "       [ 1.62716123e-01, -7.39965976e-01]])"
      ]
     },
     "execution_count": 174,
     "metadata": {},
     "output_type": "execute_result"
    }
   ],
   "source": [
    "# Random numral distrubation number between 0-1 luckly \n",
    "np.random.randn(3,2)"
   ]
  },
  {
   "cell_type": "code",
   "execution_count": 200,
   "id": "5696a30b",
   "metadata": {},
   "outputs": [
    {
     "data": {
      "text/plain": [
       "array([57, 78, 19, 24, 52])"
      ]
     },
     "execution_count": 200,
     "metadata": {},
     "output_type": "execute_result"
    }
   ],
   "source": [
    "_arr = np.random.randint(18,90,5)\n",
    "_arr"
   ]
  },
  {
   "cell_type": "markdown",
   "id": "ca4cf8d2",
   "metadata": {},
   "source": [
    "#### Indexing & Selection"
   ]
  },
  {
   "cell_type": "code",
   "execution_count": 69,
   "id": "aa2ce183",
   "metadata": {},
   "outputs": [],
   "source": [
    "# Grabbing single element"
   ]
  },
  {
   "cell_type": "code",
   "execution_count": 208,
   "id": "3146ecd3",
   "metadata": {},
   "outputs": [
    {
     "data": {
      "text/plain": [
       "array([ 10,  20,  30,  40,  50,  60,  70,  80,  90, 100])"
      ]
     },
     "execution_count": 208,
     "metadata": {},
     "output_type": "execute_result"
    }
   ],
   "source": [
    "my_arr = np.arange(10,110,10)\n",
    "my_arr"
   ]
  },
  {
   "cell_type": "code",
   "execution_count": 209,
   "id": "71cd6999",
   "metadata": {},
   "outputs": [
    {
     "data": {
      "text/plain": [
       "50"
      ]
     },
     "execution_count": 209,
     "metadata": {},
     "output_type": "execute_result"
    }
   ],
   "source": [
    "my_arr[4] # Get value by index position "
   ]
  },
  {
   "cell_type": "code",
   "execution_count": 221,
   "id": "a2d8b091",
   "metadata": {},
   "outputs": [
    {
     "data": {
      "text/plain": [
       "100"
      ]
     },
     "execution_count": 221,
     "metadata": {},
     "output_type": "execute_result"
    }
   ],
   "source": [
    "my_arr[-1]"
   ]
  },
  {
   "cell_type": "code",
   "execution_count": 222,
   "id": "0e2f4439",
   "metadata": {},
   "outputs": [
    {
     "data": {
      "text/plain": [
       "100"
      ]
     },
     "execution_count": 222,
     "metadata": {},
     "output_type": "execute_result"
    }
   ],
   "source": [
    "my_arr[9]"
   ]
  },
  {
   "cell_type": "code",
   "execution_count": 9,
   "id": "6408fee4",
   "metadata": {},
   "outputs": [],
   "source": [
    "# Grabbing a slice of elements"
   ]
  },
  {
   "cell_type": "code",
   "execution_count": 218,
   "id": "004a3511",
   "metadata": {},
   "outputs": [
    {
     "data": {
      "text/plain": [
       "array([ 50,  60,  70,  80,  90, 100])"
      ]
     },
     "execution_count": 218,
     "metadata": {},
     "output_type": "execute_result"
    }
   ],
   "source": [
    "my_arr[4:]"
   ]
  },
  {
   "cell_type": "code",
   "execution_count": 219,
   "id": "eee6be62",
   "metadata": {},
   "outputs": [
    {
     "data": {
      "text/plain": [
       "array([10, 20, 30, 40, 50])"
      ]
     },
     "execution_count": 219,
     "metadata": {},
     "output_type": "execute_result"
    }
   ],
   "source": [
    "my_arr[:5]"
   ]
  },
  {
   "cell_type": "code",
   "execution_count": 220,
   "id": "98a69bd9",
   "metadata": {},
   "outputs": [
    {
     "data": {
      "text/plain": [
       "array([40, 50, 60, 70, 80])"
      ]
     },
     "execution_count": 220,
     "metadata": {},
     "output_type": "execute_result"
    }
   ],
   "source": [
    "my_arr[3:8]"
   ]
  },
  {
   "cell_type": "code",
   "execution_count": 10,
   "id": "e6141f98",
   "metadata": {},
   "outputs": [],
   "source": [
    "# Broadcasting selections"
   ]
  },
  {
   "cell_type": "code",
   "execution_count": 226,
   "id": "4e27b81a",
   "metadata": {},
   "outputs": [
    {
     "data": {
      "text/plain": [
       "array([40, 50, 60, 70, 80])"
      ]
     },
     "execution_count": 226,
     "metadata": {},
     "output_type": "execute_result"
    }
   ],
   "source": [
    "# Here copy method make new copy of my_arr it's not reffrance to array\n",
    "slice_arr = my_arr[3:8].copy()\n",
    "slice_arr"
   ]
  },
  {
   "cell_type": "code",
   "execution_count": 228,
   "id": "f30284cd",
   "metadata": {},
   "outputs": [
    {
     "data": {
      "text/plain": [
       "array([99, 99, 99, 99, 99])"
      ]
     },
     "execution_count": 228,
     "metadata": {},
     "output_type": "execute_result"
    }
   ],
   "source": [
    "# Assigmnet to slice array value of 99 to entery array\n",
    "slice_arr[:] = 99\n",
    "slice_arr"
   ]
  },
  {
   "cell_type": "code",
   "execution_count": 229,
   "id": "f1aa1ed6",
   "metadata": {},
   "outputs": [
    {
     "data": {
      "text/plain": [
       "array([ 10,  20,  30,  40,  50,  60,  70,  80,  90, 100])"
      ]
     },
     "execution_count": 229,
     "metadata": {},
     "output_type": "execute_result"
    }
   ],
   "source": [
    "my_arr"
   ]
  },
  {
   "cell_type": "code",
   "execution_count": 11,
   "id": "a4791812",
   "metadata": {},
   "outputs": [],
   "source": [
    "# Indexing & selections on 2D"
   ]
  },
  {
   "cell_type": "code",
   "execution_count": 230,
   "id": "a871ac97",
   "metadata": {},
   "outputs": [
    {
     "data": {
      "text/plain": [
       "array([[15, 20, 25],\n",
       "       [30, 35, 40],\n",
       "       [45, 50, 55]])"
      ]
     },
     "execution_count": 230,
     "metadata": {},
     "output_type": "execute_result"
    }
   ],
   "source": [
    "arr_2d = np.array([[15,20,25],[30,35,40],[45,50,55]])\n",
    "arr_2d"
   ]
  },
  {
   "cell_type": "code",
   "execution_count": 234,
   "id": "04a7d38f",
   "metadata": {},
   "outputs": [
    {
     "data": {
      "text/plain": [
       "(3, 3)"
      ]
     },
     "execution_count": 234,
     "metadata": {},
     "output_type": "execute_result"
    }
   ],
   "source": [
    "arr_2d.shape # (Row, Colmuns)"
   ]
  },
  {
   "cell_type": "code",
   "execution_count": 233,
   "id": "bb877f68",
   "metadata": {},
   "outputs": [
    {
     "data": {
      "text/plain": [
       "array([15, 20, 25])"
      ]
     },
     "execution_count": 233,
     "metadata": {},
     "output_type": "execute_result"
    }
   ],
   "source": [
    "arr_2d[0]"
   ]
  },
  {
   "cell_type": "code",
   "execution_count": 232,
   "id": "7684dcd8",
   "metadata": {},
   "outputs": [
    {
     "data": {
      "text/plain": [
       "array([45, 50, 55])"
      ]
     },
     "execution_count": 232,
     "metadata": {},
     "output_type": "execute_result"
    }
   ],
   "source": [
    "arr_2d[-1]"
   ]
  },
  {
   "cell_type": "code",
   "execution_count": 249,
   "id": "16778e2c",
   "metadata": {},
   "outputs": [
    {
     "data": {
      "text/plain": [
       "40"
      ]
     },
     "execution_count": 249,
     "metadata": {},
     "output_type": "execute_result"
    }
   ],
   "source": [
    "arr_2d[1,2]"
   ]
  },
  {
   "cell_type": "code",
   "execution_count": 252,
   "id": "5191ee86",
   "metadata": {},
   "outputs": [
    {
     "data": {
      "text/plain": [
       "45"
      ]
     },
     "execution_count": 252,
     "metadata": {},
     "output_type": "execute_result"
    }
   ],
   "source": [
    "arr_2d[2,0]"
   ]
  },
  {
   "cell_type": "code",
   "execution_count": 245,
   "id": "22201c46",
   "metadata": {},
   "outputs": [
    {
     "data": {
      "text/plain": [
       "array([[20],\n",
       "       [35],\n",
       "       [50]])"
      ]
     },
     "execution_count": 245,
     "metadata": {},
     "output_type": "execute_result"
    }
   ],
   "source": [
    "arr_2d[:3,1:2]"
   ]
  },
  {
   "cell_type": "code",
   "execution_count": 253,
   "id": "1ed66ede",
   "metadata": {},
   "outputs": [
    {
     "data": {
      "text/plain": [
       "array([[15, 20, 25],\n",
       "       [30, 35, 40],\n",
       "       [45, 50, 55]])"
      ]
     },
     "execution_count": 253,
     "metadata": {},
     "output_type": "execute_result"
    }
   ],
   "source": [
    "arr_2d"
   ]
  },
  {
   "cell_type": "code",
   "execution_count": 259,
   "id": "ece63860",
   "metadata": {},
   "outputs": [
    {
     "data": {
      "text/plain": [
       "array([[20, 25],\n",
       "       [35, 40]])"
      ]
     },
     "execution_count": 259,
     "metadata": {},
     "output_type": "execute_result"
    }
   ],
   "source": [
    "arr_2d[0:2,1:]"
   ]
  },
  {
   "cell_type": "code",
   "execution_count": 12,
   "id": "aedea776",
   "metadata": {},
   "outputs": [],
   "source": [
    "# Condationl selections"
   ]
  },
  {
   "cell_type": "code",
   "execution_count": 260,
   "id": "3b9ae78a",
   "metadata": {},
   "outputs": [
    {
     "data": {
      "text/plain": [
       "array([ 10,  20,  30,  40,  50,  60,  70,  80,  90, 100])"
      ]
     },
     "execution_count": 260,
     "metadata": {},
     "output_type": "execute_result"
    }
   ],
   "source": [
    "my_arr"
   ]
  },
  {
   "cell_type": "code",
   "execution_count": 262,
   "id": "ad2c670c",
   "metadata": {},
   "outputs": [
    {
     "data": {
      "text/plain": [
       "array([False, False, False,  True,  True,  True,  True,  True,  True,\n",
       "        True])"
      ]
     },
     "execution_count": 262,
     "metadata": {},
     "output_type": "execute_result"
    }
   ],
   "source": [
    "my_arr > 40"
   ]
  },
  {
   "cell_type": "code",
   "execution_count": 263,
   "id": "57824479",
   "metadata": {},
   "outputs": [
    {
     "data": {
      "text/plain": [
       "array([ 50,  60,  70,  80,  90, 100])"
      ]
     },
     "execution_count": 263,
     "metadata": {},
     "output_type": "execute_result"
    }
   ],
   "source": [
    "my_arr[my_arr > 40]"
   ]
  },
  {
   "cell_type": "markdown",
   "id": "a0ed3fbf",
   "metadata": {},
   "source": [
    "#### Numpy Operation & Arithmetic"
   ]
  },
  {
   "cell_type": "markdown",
   "id": "34758564",
   "metadata": {},
   "source": [
    "Here is arithmetic between a scalar and an array"
   ]
  },
  {
   "cell_type": "code",
   "execution_count": 273,
   "id": "e09ce8b8",
   "metadata": {},
   "outputs": [
    {
     "data": {
      "text/plain": [
       "array([0, 1, 2, 3, 4, 5, 6, 7, 8, 9])"
      ]
     },
     "execution_count": 273,
     "metadata": {},
     "output_type": "execute_result"
    }
   ],
   "source": [
    "arr = np.arange(0,10)\n",
    "arr"
   ]
  },
  {
   "cell_type": "code",
   "execution_count": 274,
   "id": "2a580413",
   "metadata": {},
   "outputs": [
    {
     "data": {
      "text/plain": [
       "array([ 0,  5, 10, 15, 20, 25, 30, 35, 40, 45])"
      ]
     },
     "execution_count": 274,
     "metadata": {},
     "output_type": "execute_result"
    }
   ],
   "source": [
    "arr * 5"
   ]
  },
  {
   "cell_type": "code",
   "execution_count": 275,
   "id": "a7479b57",
   "metadata": {},
   "outputs": [
    {
     "data": {
      "text/plain": [
       "array([-2, -1,  0,  1,  2,  3,  4,  5,  6,  7])"
      ]
     },
     "execution_count": 275,
     "metadata": {},
     "output_type": "execute_result"
    }
   ],
   "source": [
    "arr - 2"
   ]
  },
  {
   "cell_type": "code",
   "execution_count": 277,
   "id": "016bf253",
   "metadata": {},
   "outputs": [
    {
     "data": {
      "text/plain": [
       "array([ 0,  2,  4,  6,  8, 10, 12, 14, 16, 18])"
      ]
     },
     "execution_count": 277,
     "metadata": {},
     "output_type": "execute_result"
    }
   ],
   "source": [
    "# Keep in mind arrays should be on the shape \n",
    "arr + arr"
   ]
  },
  {
   "cell_type": "code",
   "execution_count": 278,
   "id": "49a2fe43",
   "metadata": {},
   "outputs": [
    {
     "data": {
      "text/plain": [
       "array([0, 0, 0, 0, 0, 0, 0, 0, 0, 0])"
      ]
     },
     "execution_count": 278,
     "metadata": {},
     "output_type": "execute_result"
    }
   ],
   "source": [
    "arr - arr"
   ]
  },
  {
   "cell_type": "code",
   "execution_count": 280,
   "id": "5aeca87e",
   "metadata": {},
   "outputs": [
    {
     "name": "stderr",
     "output_type": "stream",
     "text": [
      "C:\\Users\\Mohammed Dolib\\AppData\\Local\\Temp\\ipykernel_8760\\2196462938.py:2: RuntimeWarning: invalid value encountered in true_divide\n",
      "  arr / arr\n"
     ]
    },
    {
     "data": {
      "text/plain": [
       "array([nan,  1.,  1.,  1.,  1.,  1.,  1.,  1.,  1.,  1.])"
      ]
     },
     "execution_count": 280,
     "metadata": {},
     "output_type": "execute_result"
    }
   ],
   "source": [
    "# Here on our array frist indexing is zero , \n",
    "# zero divide by zero mathematical speaking it doesn't make sense.\n",
    "# keep in mind Numpy will do operation and replaced \n",
    "#result of nan stand for not a number and through Warning\n",
    "arr / arr"
   ]
  },
  {
   "cell_type": "code",
   "execution_count": 284,
   "id": "b6421309",
   "metadata": {},
   "outputs": [
    {
     "ename": "ZeroDivisionError",
     "evalue": "division by zero",
     "output_type": "error",
     "traceback": [
      "\u001b[1;31m---------------------------------------------------------------------------\u001b[0m",
      "\u001b[1;31mZeroDivisionError\u001b[0m                         Traceback (most recent call last)",
      "\u001b[1;32m~\\AppData\\Local\\Temp\\ipykernel_8760\\3453721339.py\u001b[0m in \u001b[0;36m<module>\u001b[1;34m\u001b[0m\n\u001b[0;32m      1\u001b[0m \u001b[1;31m# not like in python\u001b[0m\u001b[1;33m\u001b[0m\u001b[1;33m\u001b[0m\u001b[0m\n\u001b[1;32m----> 2\u001b[1;33m \u001b[1;36m4\u001b[0m \u001b[1;33m/\u001b[0m \u001b[1;36m0\u001b[0m\u001b[1;33m\u001b[0m\u001b[1;33m\u001b[0m\u001b[0m\n\u001b[0m",
      "\u001b[1;31mZeroDivisionError\u001b[0m: division by zero"
     ]
    }
   ],
   "source": [
    "# Not like in python will give an error\n",
    "4 / 0"
   ]
  },
  {
   "cell_type": "code",
   "execution_count": 286,
   "id": "16efed0b",
   "metadata": {},
   "outputs": [
    {
     "name": "stderr",
     "output_type": "stream",
     "text": [
      "C:\\Users\\Mohammed Dolib\\AppData\\Local\\Temp\\ipykernel_8760\\1817388668.py:1: RuntimeWarning: divide by zero encountered in true_divide\n",
      "  1 / arr # Example of a scalar divid by zero on first indexing on our array\n"
     ]
    },
    {
     "data": {
      "text/plain": [
       "array([       inf, 1.        , 0.5       , 0.33333333, 0.25      ,\n",
       "       0.2       , 0.16666667, 0.14285714, 0.125     , 0.11111111])"
      ]
     },
     "execution_count": 286,
     "metadata": {},
     "output_type": "execute_result"
    }
   ],
   "source": [
    "1 / arr # Example of a scalar divid by zero on first indexing on our array"
   ]
  },
  {
   "cell_type": "code",
   "execution_count": null,
   "id": "f6dd72e0",
   "metadata": {},
   "outputs": [],
   "source": [
    "# Universal array funcation \n",
    "#it make our life easy you don't have to code everthing"
   ]
  },
  {
   "cell_type": "code",
   "execution_count": 287,
   "id": "d162afea",
   "metadata": {},
   "outputs": [
    {
     "data": {
      "text/plain": [
       "9"
      ]
     },
     "execution_count": 287,
     "metadata": {},
     "output_type": "execute_result"
    }
   ],
   "source": [
    "arr.max()"
   ]
  },
  {
   "cell_type": "code",
   "execution_count": 288,
   "id": "64a34843",
   "metadata": {},
   "outputs": [
    {
     "data": {
      "text/plain": [
       "0"
      ]
     },
     "execution_count": 288,
     "metadata": {},
     "output_type": "execute_result"
    }
   ],
   "source": [
    "arr.min()"
   ]
  },
  {
   "cell_type": "code",
   "execution_count": 289,
   "id": "d3c29e1d",
   "metadata": {},
   "outputs": [
    {
     "data": {
      "text/plain": [
       "4.5"
      ]
     },
     "execution_count": 289,
     "metadata": {},
     "output_type": "execute_result"
    }
   ],
   "source": [
    "arr.mean()"
   ]
  },
  {
   "cell_type": "code",
   "execution_count": 290,
   "id": "734ece28",
   "metadata": {},
   "outputs": [
    {
     "data": {
      "text/plain": [
       "2.8722813232690143"
      ]
     },
     "execution_count": 290,
     "metadata": {},
     "output_type": "execute_result"
    }
   ],
   "source": [
    "arr.std()"
   ]
  },
  {
   "cell_type": "code",
   "execution_count": 291,
   "id": "69b9b14f",
   "metadata": {},
   "outputs": [
    {
     "data": {
      "text/plain": [
       "45"
      ]
     },
     "execution_count": 291,
     "metadata": {},
     "output_type": "execute_result"
    }
   ],
   "source": [
    "arr.sum()"
   ]
  },
  {
   "cell_type": "code",
   "execution_count": 293,
   "id": "a7558f70",
   "metadata": {},
   "outputs": [
    {
     "data": {
      "text/plain": [
       "array([0.        , 1.        , 1.41421356, 1.73205081, 2.        ,\n",
       "       2.23606798, 2.44948974, 2.64575131, 2.82842712, 3.        ])"
      ]
     },
     "execution_count": 293,
     "metadata": {},
     "output_type": "execute_result"
    }
   ],
   "source": [
    "np.sqrt(arr)"
   ]
  },
  {
   "cell_type": "code",
   "execution_count": 294,
   "id": "1d4e9d0a",
   "metadata": {},
   "outputs": [
    {
     "data": {
      "text/plain": [
       "array([ 0.        ,  0.84147098,  0.90929743,  0.14112001, -0.7568025 ,\n",
       "       -0.95892427, -0.2794155 ,  0.6569866 ,  0.98935825,  0.41211849])"
      ]
     },
     "execution_count": 294,
     "metadata": {},
     "output_type": "execute_result"
    }
   ],
   "source": [
    "np.sin(arr)"
   ]
  },
  {
   "cell_type": "code",
   "execution_count": 296,
   "id": "ee36675f",
   "metadata": {},
   "outputs": [],
   "source": [
    "import os \n",
    "os."
   ]
  }
 ],
 "metadata": {
  "kernelspec": {
   "display_name": "Python 3 (ipykernel)",
   "language": "python",
   "name": "python3"
  },
  "language_info": {
   "codemirror_mode": {
    "name": "ipython",
    "version": 3
   },
   "file_extension": ".py",
   "mimetype": "text/x-python",
   "name": "python",
   "nbconvert_exporter": "python",
   "pygments_lexer": "ipython3",
   "version": "3.9.13"
  }
 },
 "nbformat": 4,
 "nbformat_minor": 5
}
